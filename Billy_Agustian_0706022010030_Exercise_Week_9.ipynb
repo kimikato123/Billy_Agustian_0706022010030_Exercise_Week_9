{
  "nbformat": 4,
  "nbformat_minor": 0,
  "metadata": {
    "colab": {
      "provenance": []
    },
    "kernelspec": {
      "name": "python3",
      "display_name": "Python 3"
    },
    "language_info": {
      "name": "python"
    }
  },
  "cells": [
    {
      "cell_type": "code",
      "execution_count": null,
      "metadata": {
        "id": "uES_bErd_IYa"
      },
      "outputs": [],
      "source": [
        "Association Rule Mining"
      ]
    },
    {
      "cell_type": "markdown",
      "source": [
        "**Apa itu Association rule mining**"
      ],
      "metadata": {
        "id": "aN4QOqsSERDI"
      }
    },
    {
      "cell_type": "markdown",
      "source": [
        "Association Rule Mining merupakan salah satu teknik yang penting dan diggunakan dalam mencari pola dalam database. Tujuan yang ditmakan dalam Association Rule Mining adalah mengetahui hubungan korelasi di antara beberapa item yang berbeda dari database. Dengan Association rule mining kita dapat menentukan pola dan banyak kombinasi dalam database tersebut. Setelah itu kita akan dapat mengetahui banyak kombinasi dalam waktu yang sama. Teknik ini sering dilakukan dalam database ukuran besar dan dapat berlaku di berbagai bidang dalam kehidupan\n",
        "\n",
        "Pada Umumnya aturan asosiasi berwujud x=>y. Dalam konteks ini X dan Y adalah sebuah itemset dalam sebuah dataset. X disebut sebagai anteseden dan Y disebut konsekuen. Penambangan aturan asosiasi terdiri dari dua langkah-langkah dasar dan ini adalah: support (s) dan confidance (c).\n",
        "Support: Ini adalah probabilitas bahwa X dan Y akan terjadi bersama-sama dalam suatu transaksi.\n",
        "Confidance: Ini juga merupakan probabilitas, tetapi mengikuti suatu kondisi. Dalam keyakinan, jika transaksi memiliki X maka itu juga akan berisi Y.\n",
        "Aturan dibuat dalam penambangan aturan asosiasi menggunakan dua langkah berikut:\n",
        "1. Semua item yang sering ditemukan menggunakan dukungan minimum.\n",
        "2. Dengan menggunakan frequent itemsets aturan asosiasi yang kuat dihasilkan, memiliki confidance c di atas nilai ambang batas yang telah ditentukan. \n",
        "\n",
        "Langkah pertama membutuhkan lebih banyak konsentrasi, karena sulit untuk mengetahui semua yang sering itemset yang terjadi."
      ],
      "metadata": {
        "id": "kyLT4tDGDyA7"
      }
    },
    {
      "cell_type": "markdown",
      "source": [
        "**pengaplikasian dari Association data mining**"
      ],
      "metadata": {
        "id": "qHzQTRo4KnHp"
      }
    },
    {
      "cell_type": "markdown",
      "source": [],
      "metadata": {
        "id": "Eyk1dwiON6Fl"
      }
    }
  ]
}